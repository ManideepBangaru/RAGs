{
 "cells": [
  {
   "cell_type": "markdown",
   "metadata": {},
   "source": [
    "## Simple RAG (Retrieval-Augmented Generation) System\n",
    "\n",
    "### Overview\n",
    "\n",
    "This code implements a basic Retrieval-Augmented Generation (RAG) system for processing and querying PDF documents. The system encodes the document content into a vector store, which can then be queried to retrieve relevant information.\n",
    "\n",
    "### Key Components\n",
    "\n",
    "#### PDF processing and text extraction\n",
    "Text chunking for manageable processing\n",
    "Vector store creation using <a href=\"https://engineering.fb.com/2017/03/29/data-infrastructure/faiss-a-library-for-efficient-similarity-search/\">FAISS</a> and OpenAI embeddings\n",
    "Retriever setup for querying the processed documents\n",
    "Evaluation of the RAG system\n",
    "Method Details\n",
    "\n",
    "#### Document Preprocessing\n",
    "\n",
    "The PDF is loaded using PyPDFLoader.\n",
    "The text is split into chunks using RecursiveCharacterTextSplitter with specified chunk size and overlap.\n",
    "Text Cleaning\n",
    "\n",
    "A custom function replace_t_with_space is applied to clean the text chunks. This likely addresses specific formatting issues in the PDF.\n",
    "\n",
    "#### Vector Store Creation\n",
    "\n",
    "OpenAI embeddings are used to create vector representations of the text chunks.\n",
    "A FAISS vector store is created from these embeddings for efficient similarity search.\n",
    "Retriever Setup\n",
    "\n",
    "A retriever is configured to fetch the top 2 most relevant chunks for a given query.\n",
    "Encoding Function\n",
    "\n",
    "The encode_pdf function encapsulates the entire process of loading, chunking, cleaning, and encoding the PDF into a vector store.\n",
    "\n",
    "#### Key Features\n",
    "\n",
    "Modular Design: The encoding process is encapsulated in a single function for easy reuse.\n",
    "Configurable Chunking: Allows adjustment of chunk size and overlap.\n",
    "Efficient Retrieval: Uses FAISS for fast similarity search.\n",
    "Evaluation: Includes a function to evaluate the RAG system's performance.\n",
    "Usage Example\n",
    "\n",
    "The code includes a test query: \"What is the main cause of climate change?\". This demonstrates how to use the retriever to fetch relevant context from the processed document.\n",
    "\n",
    "#### Evaluation\n",
    "\n",
    "The system includes an evaluate_rag function to assess the performance of the retriever, though the specific metrics used are not detailed in the provided code.\n",
    "\n",
    "#### Benefits of this Approach\n",
    "\n",
    "Scalability: Can handle large documents by processing them in chunks.\n",
    "Flexibility: Easy to adjust parameters like chunk size and number of retrieved results.\n",
    "Efficiency: Utilizes FAISS for fast similarity search in high-dimensional spaces.\n",
    "Integration with Advanced NLP: Uses OpenAI embeddings for state-of-the-art text representation.\n",
    "Conclusion\n",
    "\n",
    "This simple RAG system provides a solid foundation for building more complex information retrieval and question-answering systems. By encoding document content into a searchable vector store, it enables efficient retrieval of relevant information in response to queries. This approach is particularly useful for applications requiring quick access to specific information within large documents or document collections."
   ]
  },
  {
   "cell_type": "markdown",
   "metadata": {},
   "source": [
    "### Read Doc"
   ]
  },
  {
   "cell_type": "code",
   "execution_count": 4,
   "metadata": {},
   "outputs": [],
   "source": [
    "# initiate the pdf document path\n",
    "path = \"data/ManideepResume.pdf\""
   ]
  },
  {
   "cell_type": "markdown",
   "metadata": {},
   "source": [
    "### Encode"
   ]
  },
  {
   "cell_type": "code",
   "execution_count": 5,
   "metadata": {},
   "outputs": [],
   "source": [
    "from helper_functions import encode_pdf\n",
    "\n",
    "chunks_vector_store = encode_pdf(path, chunk_size=1000, chunk_overlap=200)"
   ]
  },
  {
   "cell_type": "markdown",
   "metadata": {},
   "source": [
    "### Create Retriever"
   ]
  },
  {
   "cell_type": "code",
   "execution_count": 9,
   "metadata": {},
   "outputs": [],
   "source": [
    "chunks_query_retriever = chunks_vector_store.as_retriever(search_kwargs={\"k\": 15})"
   ]
  },
  {
   "cell_type": "markdown",
   "metadata": {},
   "source": [
    "### Test retriever"
   ]
  },
  {
   "cell_type": "code",
   "execution_count": 10,
   "metadata": {},
   "outputs": [],
   "source": [
    "from helper_functions import retrieve_context_per_question\n",
    "\n",
    "test_query = \"What are the list of companies ?\"\n",
    "context = retrieve_context_per_question(test_query, chunks_query_retriever)"
   ]
  },
  {
   "cell_type": "markdown",
   "metadata": {},
   "source": [
    "### Evaluation"
   ]
  },
  {
   "cell_type": "code",
   "execution_count": 11,
   "metadata": {},
   "outputs": [
    {
     "name": "stdout",
     "output_type": "stream",
     "text": [
      "Answering the question from the retrieved context...\n",
      "Answering the question from the retrieved context...\n",
      "Answering the question from the retrieved context...\n"
     ]
    },
    {
     "data": {
      "text/html": [
       "<pre style=\"white-space:pre;overflow-x:auto;line-height:normal;font-family:Menlo,'DejaVu Sans Mono',consolas,'Courier New',monospace\">✨ You're running DeepEval's latest <span style=\"color: #6a00ff; text-decoration-color: #6a00ff\">Correctness </span><span style=\"color: #6a00ff; text-decoration-color: #6a00ff; font-weight: bold\">(</span><span style=\"color: #6a00ff; text-decoration-color: #6a00ff\">GEval</span><span style=\"color: #6a00ff; text-decoration-color: #6a00ff; font-weight: bold\">)</span><span style=\"color: #6a00ff; text-decoration-color: #6a00ff\"> Metric</span>! <span style=\"color: #374151; text-decoration-color: #374151; font-weight: bold\">(</span><span style=\"color: #374151; text-decoration-color: #374151\">using gpt-4o, </span><span style=\"color: #374151; text-decoration-color: #374151\">strict</span><span style=\"color: #374151; text-decoration-color: #374151\">=</span><span style=\"color: #374151; text-decoration-color: #374151; font-style: italic\">False</span><span style=\"color: #374151; text-decoration-color: #374151\">, </span><span style=\"color: #374151; text-decoration-color: #374151\">async_mode</span><span style=\"color: #374151; text-decoration-color: #374151\">=</span><span style=\"color: #374151; text-decoration-color: #374151; font-style: italic\">True</span><span style=\"color: #374151; text-decoration-color: #374151; font-weight: bold\">)</span><span style=\"color: #374151; text-decoration-color: #374151\">...</span>\n",
       "</pre>\n"
      ],
      "text/plain": [
       "✨ You're running DeepEval's latest \u001b[38;2;106;0;255mCorrectness \u001b[0m\u001b[1;38;2;106;0;255m(\u001b[0m\u001b[38;2;106;0;255mGEval\u001b[0m\u001b[1;38;2;106;0;255m)\u001b[0m\u001b[38;2;106;0;255m Metric\u001b[0m! \u001b[1;38;2;55;65;81m(\u001b[0m\u001b[38;2;55;65;81musing gpt-4o, \u001b[0m\u001b[38;2;55;65;81mstrict\u001b[0m\u001b[38;2;55;65;81m=\u001b[0m\u001b[3;38;2;55;65;81mFalse\u001b[0m\u001b[38;2;55;65;81m, \u001b[0m\u001b[38;2;55;65;81masync_mode\u001b[0m\u001b[38;2;55;65;81m=\u001b[0m\u001b[3;38;2;55;65;81mTrue\u001b[0m\u001b[1;38;2;55;65;81m)\u001b[0m\u001b[38;2;55;65;81m...\u001b[0m\n"
      ]
     },
     "metadata": {},
     "output_type": "display_data"
    },
    {
     "data": {
      "text/html": [
       "<pre style=\"white-space:pre;overflow-x:auto;line-height:normal;font-family:Menlo,'DejaVu Sans Mono',consolas,'Courier New',monospace\">✨ You're running DeepEval's latest <span style=\"color: #6a00ff; text-decoration-color: #6a00ff\">Faithfulness Metric</span>! <span style=\"color: #374151; text-decoration-color: #374151; font-weight: bold\">(</span><span style=\"color: #374151; text-decoration-color: #374151\">using gpt-</span><span style=\"color: #374151; text-decoration-color: #374151; font-weight: bold\">4</span><span style=\"color: #374151; text-decoration-color: #374151\">, </span><span style=\"color: #374151; text-decoration-color: #374151\">strict</span><span style=\"color: #374151; text-decoration-color: #374151\">=</span><span style=\"color: #374151; text-decoration-color: #374151; font-style: italic\">False</span><span style=\"color: #374151; text-decoration-color: #374151\">, </span><span style=\"color: #374151; text-decoration-color: #374151\">async_mode</span><span style=\"color: #374151; text-decoration-color: #374151\">=</span><span style=\"color: #374151; text-decoration-color: #374151; font-style: italic\">True</span><span style=\"color: #374151; text-decoration-color: #374151; font-weight: bold\">)</span><span style=\"color: #374151; text-decoration-color: #374151\">...</span>\n",
       "</pre>\n"
      ],
      "text/plain": [
       "✨ You're running DeepEval's latest \u001b[38;2;106;0;255mFaithfulness Metric\u001b[0m! \u001b[1;38;2;55;65;81m(\u001b[0m\u001b[38;2;55;65;81musing gpt-\u001b[0m\u001b[1;38;2;55;65;81m4\u001b[0m\u001b[38;2;55;65;81m, \u001b[0m\u001b[38;2;55;65;81mstrict\u001b[0m\u001b[38;2;55;65;81m=\u001b[0m\u001b[3;38;2;55;65;81mFalse\u001b[0m\u001b[38;2;55;65;81m, \u001b[0m\u001b[38;2;55;65;81masync_mode\u001b[0m\u001b[38;2;55;65;81m=\u001b[0m\u001b[3;38;2;55;65;81mTrue\u001b[0m\u001b[1;38;2;55;65;81m)\u001b[0m\u001b[38;2;55;65;81m...\u001b[0m\n"
      ]
     },
     "metadata": {},
     "output_type": "display_data"
    },
    {
     "data": {
      "text/html": [
       "<pre style=\"white-space:pre;overflow-x:auto;line-height:normal;font-family:Menlo,'DejaVu Sans Mono',consolas,'Courier New',monospace\">✨ You're running DeepEval's latest <span style=\"color: #6a00ff; text-decoration-color: #6a00ff\">Contextual Relevancy Metric</span>! <span style=\"color: #374151; text-decoration-color: #374151; font-weight: bold\">(</span><span style=\"color: #374151; text-decoration-color: #374151\">using gpt-</span><span style=\"color: #374151; text-decoration-color: #374151; font-weight: bold\">4</span><span style=\"color: #374151; text-decoration-color: #374151\">, </span><span style=\"color: #374151; text-decoration-color: #374151\">strict</span><span style=\"color: #374151; text-decoration-color: #374151\">=</span><span style=\"color: #374151; text-decoration-color: #374151; font-style: italic\">False</span><span style=\"color: #374151; text-decoration-color: #374151\">, </span><span style=\"color: #374151; text-decoration-color: #374151\">async_mode</span><span style=\"color: #374151; text-decoration-color: #374151\">=</span><span style=\"color: #374151; text-decoration-color: #374151; font-style: italic\">True</span><span style=\"color: #374151; text-decoration-color: #374151; font-weight: bold\">)</span><span style=\"color: #374151; text-decoration-color: #374151\">...</span>\n",
       "</pre>\n"
      ],
      "text/plain": [
       "✨ You're running DeepEval's latest \u001b[38;2;106;0;255mContextual Relevancy Metric\u001b[0m! \u001b[1;38;2;55;65;81m(\u001b[0m\u001b[38;2;55;65;81musing gpt-\u001b[0m\u001b[1;38;2;55;65;81m4\u001b[0m\u001b[38;2;55;65;81m, \u001b[0m\u001b[38;2;55;65;81mstrict\u001b[0m\u001b[38;2;55;65;81m=\u001b[0m\u001b[3;38;2;55;65;81mFalse\u001b[0m\u001b[38;2;55;65;81m, \u001b[0m\u001b[38;2;55;65;81masync_mode\u001b[0m\u001b[38;2;55;65;81m=\u001b[0m\u001b[3;38;2;55;65;81mTrue\u001b[0m\u001b[1;38;2;55;65;81m)\u001b[0m\u001b[38;2;55;65;81m...\u001b[0m\n"
      ]
     },
     "metadata": {},
     "output_type": "display_data"
    },
    {
     "name": "stdout",
     "output_type": "stream",
     "text": [
      "Event loop is already running. Applying nest_asyncio patch to allow async execution...\n"
     ]
    },
    {
     "name": "stderr",
     "output_type": "stream",
     "text": [
      "Evaluating 3 test case(s) in parallel: |██████████|100% (3/3) [Time Taken: 00:24,  8.22s/test case]"
     ]
    },
    {
     "name": "stdout",
     "output_type": "stream",
     "text": [
      "\n",
      "======================================================================\n",
      "\n",
      "Metrics Summary\n",
      "\n",
      "  - ❌ Correctness (GEval) (score: 0.23833602776858015, threshold: 0.5, strict: False, evaluation model: gpt-4o, reason: The actual output contains detailed information not present in the expected output, which only mentions 'Engineering'., error: None)\n",
      "  - ✅ Faithfulness (score: 0.75, threshold: 0.7, strict: False, evaluation model: gpt-4, reason: None, error: None)\n",
      "  - ❌ Contextual Relevancy (score: 0.16666666666666666, threshold: 1.0, strict: False, evaluation model: gpt-4, reason: The score is 0.17 because the context provided mainly discusses professional roles, responsibilities, and job experiences but does not address or provide any information about the 'highest qualification'., error: None)\n",
      "\n",
      "For test case:\n",
      "\n",
      "  - input: What is the highest qualification ?\n",
      "  - actual output: The highest qualification is a Bachelor of Technology in Electronics and Communications Engineering (ECE) from Jawaharlal Nehru Technological University, Hyderabad, India, secured in July 2011 to June 2015 with a percentage of 73.35.\n",
      "  - expected output: Engineering\n",
      "  - context: None\n",
      "  - retrieval context: ['JawaharlalNehruTechnologic alUniversity ,Hyderabad,IndiaJuly2011toJune2015BachelorofTechnologyinElectronicsandCommunic ationsEngineering(ECE)Percentagesecured:73.35', 'Achievements:\\n●CertifiedBaseSAS9.4Programmer(CertifiedbySASIndia)\\n●CertifiedinINSOFE’SCPEEcertificationranked3rdworldwideondatasciencewith78%aggregat e(CertifiedbyLTIofCarnegieMellonUniversity)\\n●Leadtheteam,whichautomatesSASscriptstoPythontoreducetherevenue\\nSkills:\\nProgramminglanguages:TensorFlo w,Python,R,SQL\\nVisualizationTools:Tableau,MicrosoftPowerBI,GlueViz,Excel\\nConceptualSkills:Huggingfacetransformers,Comput erVision,NaturalLanguageprocessing,MachineLearning\\nEducationalBackground:\\nInternationalSchoolofEngineering(INSOFE),Hyderabad,IndiaApril2016toOct2016\\nwebsite:http://www.insofe.edu.in/CertificatePrograminBigdataAnalyticsandOptimizationItisa6-monthAppliedEngineeringcourseinDataScience,BigdataanalyticsandOptimizationinwhichwewillbeexposedtovariousanalyticaltoolsandMachineLearningmodelstofindthepatternsinthedata,thenusedforpredictionsanddecision-making.TheProgramiscertifiedforthequality,pedagogyandassessmen tbyLTIofCarnegieMellonUniversity .', 'ManideepBangaru\\nbmd994@gmail.c om+917416228028\\nOBJECTIVE:SeekingachallengingcareerpositioninanorganizationwhereIcanusemytechnicalskills&creativitytomakeasignificantcontributiontowardsgrowth&developmen toforganizationalongwithmypersonalgrowth\\nProfessionalExperience:\\nCompan yName:GameopediaDataSolutionsPvtLtd,Hyderabad(Sep’22toPresent)Domain:DataScienceToolsUsed:Python,mysql,Confluenc e,JiraShortSummar yoftheprojectsdealingwith:\\n●TeamLead-DataScience:Client:GameopediaRole:TeamLead-DataScienceResponsibilities:1)Directingthedatascienceshipintheorganization2)DirectpointofcontactforanyDataSciencework3)Conflictresolution,Problemsolving4)Workshopsorganizerandprojectingdatasciencecapabilities5)Frequentcatchupwiththeinternal&externalclientstoidentifyopportunities6)DesignedOpportunityassessmentplan7)SmootherexecutionwithreasonabletimelinesusingAgilemethodology8)Crossfunctionalinteractions9)Team-Performanceassessments', 'Compan yName:AffineAnalyticsPvt.ltd,Bangalore(Jun’18toDec’18)Domain:DataScienceToolsUsed:Python,R,SQL,Tableau,ExcelShortSummar yoftheprojectsdealtwith:\\n●TitleDemandForecasting:Client:SonyRole:SeniorBusinessAnalystResponsibilities:1)World’soneofthebestgamingcompanywantstoknowhowthesalesbehaviourofagameisgoingtobeafterfewmonthsofitsrelease2)Sothatitcanmanageitsspendonthegametomaximizethesales3)Designedanendtoendpipelinewhichinitiallylearnsfromthepreviouslyreleasedgamesandtheirrespectivetransactionaldata,andprovidedatemplatetotheclientinwhichheneedstodumpthedataofthepreviousquartersothatthisdatacanbeusedtothrowoutthepredictionsofthenextquarter', '●SearchengineusingBM25retriever:Client:MultipleclientsRole:DataScienceSpecialistResponsibilities:1)Ideaistobuildasearchenginewhichreducestheeffortandincreasesthespeedofassociatesinfindingrightdocumentforrightincident2)Thesolutiongoesthroughapipelinewhichundergoesvariouspre-processingstepssuchasworktokenizing,stopwordremoval,lemmatization,documenttermmatrix,etc.3)BM25retrieverisbeingusedtocrawlthroughdocumenttermmatrixandgivesusthebestmatch\\nCompan yName:CognizantTechnologySolutions,Hyderabad(Jan’19toJun’21)Domain:DataScienceToolsUsed:GoogleColab,TensorFlo w,Python,R,MicrosoftPowerBIShortSummar yoftheprojectsdealingwith:', '●MotivationMappingEngine:Client:MultipleClientsRole:SeniorDataScientistResponsibilities:1)Solelyhandledtheproject2)Builtapredictivemodelwhichwilltakealistofgamesplayedbytheuserandoutputsthemotivation3)ImplementedCI/CDpipeline4)Clientinteractions\\nCompan yName:Accenture,Hyderabad(Jun’21toSep’22)Domain:DataScienceToolsUsed:PythonShortSummar yoftheprojectsdealingwith:\\n●VirtualAgentusingBERTmodel:Client:MultipleclientsRole:DataScienceSpecialistResponsibilities:1)Partofateamwhichbuildsvirtualagents2)Thisparticularagenttakesinpdfsasknowledgesourceandbuildsacorpus3)ItusesBERTtransformermodeltoanswertothequeriesaskedbytheuserfromthedocuments4)Proactivelyleadclientpresentations5)WorkedonmultiplePOCsinsyncwiththeclientneeds', '●ContextRelevanceCheck:Client:MultipleClientsRole:TeamLead-DataScienceResponsibilities:1)LeadandTeamcontributor2)step-by-stepexecutions3)Brainstormingaroundthesolutions4)DocumentationoftheprojectandcommunicatingtheprogresstoCTO5)Directingtheteamtobeon-track,settingupthetimelygoalssothattheydon’tdeviate6)Clientpresentations', 'Compan yName:CognizantTechnologySolutions,Hyderabad(Jan’19toJun’21)Domain:DataScienceToolsUsed:GoogleColab,TensorFlo w,Python,R,MicrosoftPowerBIShortSummar yoftheprojectsdealingwith:\\n●WheelchairsigndetectionModel:Client:GoogleRole:Sr.DeveloperResponsibilities:1)DevelopingaDeepLearningmodeltodetectWheelchairaccessibilitysignsonthestorefronts,consumedlargedataofimagesandtrainedmodelwithFasterR-CNNbyplayingaroundthehyperparameters2)BuiltaSingleShotclassificationmodelontopofthedetectionmodeltouplifttheRecallbynotsacrificingPrecision3)Interactionswiththeclienttounderstandaboutthepipelinetomakethemodelaccurateenoughtomeettherequirement4)Raninferencejobsoncoupleofcountriesandhelpedtheclientstoincreasethenumberofdetectionswithinlessproductiontime5)ModelwasusedbydifferentclientsacrosstheglobetodetectWheelchairsigns', '●FootwearSalesForecasting:Client:NikeRole:SeniorBusinessAnalystResponsibilities:1)AleadingmarketshareholderofFootwearneedsaforecastontheamountofsalesforeverysecondquarter2)Sothattheycanmanagetheinventoryandtargetthetypeoffootweartoincreasethesales3)Atabroaderleveloftypesoffootwearthatareproductionizedbythecompany,developedanecosystemwhichhelpstonotonlyusethistemplateforsecondquartersalesbutalsotocreateanewproductwhichcanalsobeofgooddemand\\nCompan yName:NielsenIndiaPvt.ltd,Bangalore(Oct’16toJun’18)Domain:DataScienceToolsUsed:Python,R,SAS,SQL,ExcelShortSummar yoftheprojectsdealtwith:\\n●ItemcodingusingMachineLearningandNaturalLanguag eProcessing:Client:TheHomedepotRole:DataScientist', 'Responsibilities:1)Therearemillionsofitemsintheonlinespacethatarenotcodedduetothequantityandlackofautomation.2)Asthedataishugeintheonlinespace,usedImpalatoquerythedatafromthebigtables(Hadoopclusters)3)Thechalleng eistoreducethemanualeffortwithoutaffectingthequalityoftheitemcoding4)Createdlabelstotheproductjustbyobservingtheattributestheproductcarries5)Inadditiontothelabels,alsotriedtodividetheproductsintotheirrespectiv ecategoryusingtreebasedalgorithms\\n●CustomerTargetingAnalytics:Client:FordmotorcompanyRole:DataScientistResponsibilities:1)Analyzedthedataoffewnewschannelsandentertainmentchannelsoverthepurchasebehaviorsofthecustomerssothatithelpstherespectiv eclientstotargetthecustomerstobringthemintotheirbusiness2)Increasedthesalesby~5%byprovidingtheclientwiththerecommendedtimingsandtherespectiv eeventstotargetspecificgroupofpeople', 'PDFComparisontool:Client:CorelogicRole:TeamManagerResponsibilities:1)Asaleaddevelopedatool,whichcomparestwopdfsandhighlightsthetextinboththedocumentswherevertherearedifferences2)Frequentinteractionswiththeclienttounderstandthebusinessneedstoalignwiththedesiredrequirement3)Usedwidevarietiesofcleaningandpre-processingtechniquestoapplyNLPtechniquesforExactmappingofpagesintwodocumentsandhighlightedthedifferences,onew.r.toother4)DirectedtheteamtodevelopaUIusingRshiny,whichprovidesuserstheeaseofoperating5)Designedatoolinsuchawaythatauserneedstoinputtwopdfdocumentsandjustneedtorunthetoolandtherewillbetwooutputdocumentscorrespondingtotheinputdocumentsinwhichthedifferencesarehighlighted\\nCompan yName:AffineAnalyticsPvt.ltd,Bangalore(Jun’18toDec’18)Domain:DataScienceToolsUsed:Python,R,SQL,Tableau,ExcelShortSummar yoftheprojectsdealtwith:', 'Compan yName:Deloitte,Hyderabad(Contract:May’16toAug’16)Domain:PropertyAccountingAnalyticsToolsUsed:R,SAP,ExcelRole:AssociateResponsibilities:1)BeinginthePropertyandAccountteamofDeloitteforUSandINDIAoffices,Analysedthelifecycleofanassetfromthetimeofprocurementtothetimeofdepreciation2)DoneaResearchontheactiveassetsandhelpedthebusinesstomonitortheassetsfromdaytodaylife\\nEarlyExperience(INTERNSHIP):Compan yName:SynchronyFinancial(FormerlyknownasGECapital)Domain:Analytics&BusinessIntelligence(RetailAnalytics)Toolsused:SAS,Excel,PowerPointRole:InternAnalystResponsibilities:\\n●Analyzedactivationsofaccountsbychanneltosuggestbusinesstheoptimumnumberofdaystotargetaneveractiveaccounts\\n●Neverthelesssuggestedtheaveragepromoandnon-promotransactionstorecoveracquisitiondollarsspentonhitandrunsandneveractiveaccounts']\n",
      "\n",
      "======================================================================\n",
      "\n",
      "Metrics Summary\n",
      "\n",
      "  - ❌ Correctness (GEval) (score: 0.3088659574401075, threshold: 0.5, strict: False, evaluation model: gpt-4o, reason: The actual output includes additional details 'Data Solutions Pvt Ltd, Hyderabad (Sep '22 to Present)' which are not present in the expected output., error: None)\n",
      "  - ✅ Faithfulness (score: 1.0, threshold: 0.7, strict: False, evaluation model: gpt-4, reason: None, error: None)\n",
      "  - ❌ Contextual Relevancy (score: 0.25, threshold: 1.0, strict: False, evaluation model: gpt-4, reason: The score is 0.25 because the context primarily discusses specific projects, roles, and responsibilities at various companies, but fails to provide any information related to 'the latest company'., error: None)\n",
      "\n",
      "For test case:\n",
      "\n",
      "  - input: What is the latest company?\n",
      "  - actual output: Gameopedia Data Solutions Pvt Ltd, Hyderabad (Sep '22 to Present)\n",
      "  - expected output: Gameopedia\n",
      "  - context: None\n",
      "  - retrieval context: ['Compan yName:AffineAnalyticsPvt.ltd,Bangalore(Jun’18toDec’18)Domain:DataScienceToolsUsed:Python,R,SQL,Tableau,ExcelShortSummar yoftheprojectsdealtwith:\\n●TitleDemandForecasting:Client:SonyRole:SeniorBusinessAnalystResponsibilities:1)World’soneofthebestgamingcompanywantstoknowhowthesalesbehaviourofagameisgoingtobeafterfewmonthsofitsrelease2)Sothatitcanmanageitsspendonthegametomaximizethesales3)Designedanendtoendpipelinewhichinitiallylearnsfromthepreviouslyreleasedgamesandtheirrespectivetransactionaldata,andprovidedatemplatetotheclientinwhichheneedstodumpthedataofthepreviousquartersothatthisdatacanbeusedtothrowoutthepredictionsofthenextquarter', '●SearchengineusingBM25retriever:Client:MultipleclientsRole:DataScienceSpecialistResponsibilities:1)Ideaistobuildasearchenginewhichreducestheeffortandincreasesthespeedofassociatesinfindingrightdocumentforrightincident2)Thesolutiongoesthroughapipelinewhichundergoesvariouspre-processingstepssuchasworktokenizing,stopwordremoval,lemmatization,documenttermmatrix,etc.3)BM25retrieverisbeingusedtocrawlthroughdocumenttermmatrixandgivesusthebestmatch\\nCompan yName:CognizantTechnologySolutions,Hyderabad(Jan’19toJun’21)Domain:DataScienceToolsUsed:GoogleColab,TensorFlo w,Python,R,MicrosoftPowerBIShortSummar yoftheprojectsdealingwith:', '●FootwearSalesForecasting:Client:NikeRole:SeniorBusinessAnalystResponsibilities:1)AleadingmarketshareholderofFootwearneedsaforecastontheamountofsalesforeverysecondquarter2)Sothattheycanmanagetheinventoryandtargetthetypeoffootweartoincreasethesales3)Atabroaderleveloftypesoffootwearthatareproductionizedbythecompany,developedanecosystemwhichhelpstonotonlyusethistemplateforsecondquartersalesbutalsotocreateanewproductwhichcanalsobeofgooddemand\\nCompan yName:NielsenIndiaPvt.ltd,Bangalore(Oct’16toJun’18)Domain:DataScienceToolsUsed:Python,R,SAS,SQL,ExcelShortSummar yoftheprojectsdealtwith:\\n●ItemcodingusingMachineLearningandNaturalLanguag eProcessing:Client:TheHomedepotRole:DataScientist', 'Compan yName:CognizantTechnologySolutions,Hyderabad(Jan’19toJun’21)Domain:DataScienceToolsUsed:GoogleColab,TensorFlo w,Python,R,MicrosoftPowerBIShortSummar yoftheprojectsdealingwith:\\n●WheelchairsigndetectionModel:Client:GoogleRole:Sr.DeveloperResponsibilities:1)DevelopingaDeepLearningmodeltodetectWheelchairaccessibilitysignsonthestorefronts,consumedlargedataofimagesandtrainedmodelwithFasterR-CNNbyplayingaroundthehyperparameters2)BuiltaSingleShotclassificationmodelontopofthedetectionmodeltouplifttheRecallbynotsacrificingPrecision3)Interactionswiththeclienttounderstandaboutthepipelinetomakethemodelaccurateenoughtomeettherequirement4)Raninferencejobsoncoupleofcountriesandhelpedtheclientstoincreasethenumberofdetectionswithinlessproductiontime5)ModelwasusedbydifferentclientsacrosstheglobetodetectWheelchairsigns', 'ManideepBangaru\\nbmd994@gmail.c om+917416228028\\nOBJECTIVE:SeekingachallengingcareerpositioninanorganizationwhereIcanusemytechnicalskills&creativitytomakeasignificantcontributiontowardsgrowth&developmen toforganizationalongwithmypersonalgrowth\\nProfessionalExperience:\\nCompan yName:GameopediaDataSolutionsPvtLtd,Hyderabad(Sep’22toPresent)Domain:DataScienceToolsUsed:Python,mysql,Confluenc e,JiraShortSummar yoftheprojectsdealingwith:\\n●TeamLead-DataScience:Client:GameopediaRole:TeamLead-DataScienceResponsibilities:1)Directingthedatascienceshipintheorganization2)DirectpointofcontactforanyDataSciencework3)Conflictresolution,Problemsolving4)Workshopsorganizerandprojectingdatasciencecapabilities5)Frequentcatchupwiththeinternal&externalclientstoidentifyopportunities6)DesignedOpportunityassessmentplan7)SmootherexecutionwithreasonabletimelinesusingAgilemethodology8)Crossfunctionalinteractions9)Team-Performanceassessments', 'Compan yName:Deloitte,Hyderabad(Contract:May’16toAug’16)Domain:PropertyAccountingAnalyticsToolsUsed:R,SAP,ExcelRole:AssociateResponsibilities:1)BeinginthePropertyandAccountteamofDeloitteforUSandINDIAoffices,Analysedthelifecycleofanassetfromthetimeofprocurementtothetimeofdepreciation2)DoneaResearchontheactiveassetsandhelpedthebusinesstomonitortheassetsfromdaytodaylife\\nEarlyExperience(INTERNSHIP):Compan yName:SynchronyFinancial(FormerlyknownasGECapital)Domain:Analytics&BusinessIntelligence(RetailAnalytics)Toolsused:SAS,Excel,PowerPointRole:InternAnalystResponsibilities:\\n●Analyzedactivationsofaccountsbychanneltosuggestbusinesstheoptimumnumberofdaystotargetaneveractiveaccounts\\n●Neverthelesssuggestedtheaveragepromoandnon-promotransactionstorecoveracquisitiondollarsspentonhitandrunsandneveractiveaccounts', 'PDFComparisontool:Client:CorelogicRole:TeamManagerResponsibilities:1)Asaleaddevelopedatool,whichcomparestwopdfsandhighlightsthetextinboththedocumentswherevertherearedifferences2)Frequentinteractionswiththeclienttounderstandthebusinessneedstoalignwiththedesiredrequirement3)Usedwidevarietiesofcleaningandpre-processingtechniquestoapplyNLPtechniquesforExactmappingofpagesintwodocumentsandhighlightedthedifferences,onew.r.toother4)DirectedtheteamtodevelopaUIusingRshiny,whichprovidesuserstheeaseofoperating5)Designedatoolinsuchawaythatauserneedstoinputtwopdfdocumentsandjustneedtorunthetoolandtherewillbetwooutputdocumentscorrespondingtotheinputdocumentsinwhichthedifferencesarehighlighted\\nCompan yName:AffineAnalyticsPvt.ltd,Bangalore(Jun’18toDec’18)Domain:DataScienceToolsUsed:Python,R,SQL,Tableau,ExcelShortSummar yoftheprojectsdealtwith:', 'Responsibilities:1)Therearemillionsofitemsintheonlinespacethatarenotcodedduetothequantityandlackofautomation.2)Asthedataishugeintheonlinespace,usedImpalatoquerythedatafromthebigtables(Hadoopclusters)3)Thechalleng eistoreducethemanualeffortwithoutaffectingthequalityoftheitemcoding4)Createdlabelstotheproductjustbyobservingtheattributestheproductcarries5)Inadditiontothelabels,alsotriedtodividetheproductsintotheirrespectiv ecategoryusingtreebasedalgorithms\\n●CustomerTargetingAnalytics:Client:FordmotorcompanyRole:DataScientistResponsibilities:1)Analyzedthedataoffewnewschannelsandentertainmentchannelsoverthepurchasebehaviorsofthecustomerssothatithelpstherespectiv eclientstotargetthecustomerstobringthemintotheirbusiness2)Increasedthesalesby~5%byprovidingtheclientwiththerecommendedtimingsandtherespectiv eeventstotargetspecificgroupofpeople', 'Achievements:\\n●CertifiedBaseSAS9.4Programmer(CertifiedbySASIndia)\\n●CertifiedinINSOFE’SCPEEcertificationranked3rdworldwideondatasciencewith78%aggregat e(CertifiedbyLTIofCarnegieMellonUniversity)\\n●Leadtheteam,whichautomatesSASscriptstoPythontoreducetherevenue\\nSkills:\\nProgramminglanguages:TensorFlo w,Python,R,SQL\\nVisualizationTools:Tableau,MicrosoftPowerBI,GlueViz,Excel\\nConceptualSkills:Huggingfacetransformers,Comput erVision,NaturalLanguageprocessing,MachineLearning\\nEducationalBackground:\\nInternationalSchoolofEngineering(INSOFE),Hyderabad,IndiaApril2016toOct2016\\nwebsite:http://www.insofe.edu.in/CertificatePrograminBigdataAnalyticsandOptimizationItisa6-monthAppliedEngineeringcourseinDataScience,BigdataanalyticsandOptimizationinwhichwewillbeexposedtovariousanalyticaltoolsandMachineLearningmodelstofindthepatternsinthedata,thenusedforpredictionsanddecision-making.TheProgramiscertifiedforthequality,pedagogyandassessmen tbyLTIofCarnegieMellonUniversity .', 'JawaharlalNehruTechnologic alUniversity ,Hyderabad,IndiaJuly2011toJune2015BachelorofTechnologyinElectronicsandCommunic ationsEngineering(ECE)Percentagesecured:73.35', '●MotivationMappingEngine:Client:MultipleClientsRole:SeniorDataScientistResponsibilities:1)Solelyhandledtheproject2)Builtapredictivemodelwhichwilltakealistofgamesplayedbytheuserandoutputsthemotivation3)ImplementedCI/CDpipeline4)Clientinteractions\\nCompan yName:Accenture,Hyderabad(Jun’21toSep’22)Domain:DataScienceToolsUsed:PythonShortSummar yoftheprojectsdealingwith:\\n●VirtualAgentusingBERTmodel:Client:MultipleclientsRole:DataScienceSpecialistResponsibilities:1)Partofateamwhichbuildsvirtualagents2)Thisparticularagenttakesinpdfsasknowledgesourceandbuildsacorpus3)ItusesBERTtransformermodeltoanswertothequeriesaskedbytheuserfromthedocuments4)Proactivelyleadclientpresentations5)WorkedonmultiplePOCsinsyncwiththeclientneeds', '●ContextRelevanceCheck:Client:MultipleClientsRole:TeamLead-DataScienceResponsibilities:1)LeadandTeamcontributor2)step-by-stepexecutions3)Brainstormingaroundthesolutions4)DocumentationoftheprojectandcommunicatingtheprogresstoCTO5)Directingtheteamtobeon-track,settingupthetimelygoalssothattheydon’tdeviate6)Clientpresentations']\n",
      "\n",
      "======================================================================\n",
      "\n",
      "Metrics Summary\n",
      "\n",
      "  - ✅ Correctness (GEval) (score: 1.0000000000000002, threshold: 0.5, strict: False, evaluation model: gpt-4o, reason: The actual output matches the expected output exactly., error: None)\n",
      "  - ✅ Faithfulness (score: 1.0, threshold: 0.7, strict: False, evaluation model: gpt-4, reason: None, error: None)\n",
      "  - ❌ Contextual Relevancy (score: 0.0, threshold: 1.0, strict: False, evaluation model: gpt-4, reason: The score is 0.00 because all reasons provided consistently highlight that the context does not provide any information about a 'profile name', which was the main requirement of the input., error: None)\n",
      "\n",
      "For test case:\n",
      "\n",
      "  - input: What is the name of the profile\n",
      "  - actual output: Manideep Bangaru\n",
      "  - expected output: Manideep Bangaru\n",
      "  - context: None\n",
      "  - retrieval context: ['ManideepBangaru\\nbmd994@gmail.c om+917416228028\\nOBJECTIVE:SeekingachallengingcareerpositioninanorganizationwhereIcanusemytechnicalskills&creativitytomakeasignificantcontributiontowardsgrowth&developmen toforganizationalongwithmypersonalgrowth\\nProfessionalExperience:\\nCompan yName:GameopediaDataSolutionsPvtLtd,Hyderabad(Sep’22toPresent)Domain:DataScienceToolsUsed:Python,mysql,Confluenc e,JiraShortSummar yoftheprojectsdealingwith:\\n●TeamLead-DataScience:Client:GameopediaRole:TeamLead-DataScienceResponsibilities:1)Directingthedatascienceshipintheorganization2)DirectpointofcontactforanyDataSciencework3)Conflictresolution,Problemsolving4)Workshopsorganizerandprojectingdatasciencecapabilities5)Frequentcatchupwiththeinternal&externalclientstoidentifyopportunities6)DesignedOpportunityassessmentplan7)SmootherexecutionwithreasonabletimelinesusingAgilemethodology8)Crossfunctionalinteractions9)Team-Performanceassessments', 'Compan yName:AffineAnalyticsPvt.ltd,Bangalore(Jun’18toDec’18)Domain:DataScienceToolsUsed:Python,R,SQL,Tableau,ExcelShortSummar yoftheprojectsdealtwith:\\n●TitleDemandForecasting:Client:SonyRole:SeniorBusinessAnalystResponsibilities:1)World’soneofthebestgamingcompanywantstoknowhowthesalesbehaviourofagameisgoingtobeafterfewmonthsofitsrelease2)Sothatitcanmanageitsspendonthegametomaximizethesales3)Designedanendtoendpipelinewhichinitiallylearnsfromthepreviouslyreleasedgamesandtheirrespectivetransactionaldata,andprovidedatemplatetotheclientinwhichheneedstodumpthedataofthepreviousquartersothatthisdatacanbeusedtothrowoutthepredictionsofthenextquarter', 'Compan yName:Deloitte,Hyderabad(Contract:May’16toAug’16)Domain:PropertyAccountingAnalyticsToolsUsed:R,SAP,ExcelRole:AssociateResponsibilities:1)BeinginthePropertyandAccountteamofDeloitteforUSandINDIAoffices,Analysedthelifecycleofanassetfromthetimeofprocurementtothetimeofdepreciation2)DoneaResearchontheactiveassetsandhelpedthebusinesstomonitortheassetsfromdaytodaylife\\nEarlyExperience(INTERNSHIP):Compan yName:SynchronyFinancial(FormerlyknownasGECapital)Domain:Analytics&BusinessIntelligence(RetailAnalytics)Toolsused:SAS,Excel,PowerPointRole:InternAnalystResponsibilities:\\n●Analyzedactivationsofaccountsbychanneltosuggestbusinesstheoptimumnumberofdaystotargetaneveractiveaccounts\\n●Neverthelesssuggestedtheaveragepromoandnon-promotransactionstorecoveracquisitiondollarsspentonhitandrunsandneveractiveaccounts', 'Compan yName:CognizantTechnologySolutions,Hyderabad(Jan’19toJun’21)Domain:DataScienceToolsUsed:GoogleColab,TensorFlo w,Python,R,MicrosoftPowerBIShortSummar yoftheprojectsdealingwith:\\n●WheelchairsigndetectionModel:Client:GoogleRole:Sr.DeveloperResponsibilities:1)DevelopingaDeepLearningmodeltodetectWheelchairaccessibilitysignsonthestorefronts,consumedlargedataofimagesandtrainedmodelwithFasterR-CNNbyplayingaroundthehyperparameters2)BuiltaSingleShotclassificationmodelontopofthedetectionmodeltouplifttheRecallbynotsacrificingPrecision3)Interactionswiththeclienttounderstandaboutthepipelinetomakethemodelaccurateenoughtomeettherequirement4)Raninferencejobsoncoupleofcountriesandhelpedtheclientstoincreasethenumberofdetectionswithinlessproductiontime5)ModelwasusedbydifferentclientsacrosstheglobetodetectWheelchairsigns', 'Achievements:\\n●CertifiedBaseSAS9.4Programmer(CertifiedbySASIndia)\\n●CertifiedinINSOFE’SCPEEcertificationranked3rdworldwideondatasciencewith78%aggregat e(CertifiedbyLTIofCarnegieMellonUniversity)\\n●Leadtheteam,whichautomatesSASscriptstoPythontoreducetherevenue\\nSkills:\\nProgramminglanguages:TensorFlo w,Python,R,SQL\\nVisualizationTools:Tableau,MicrosoftPowerBI,GlueViz,Excel\\nConceptualSkills:Huggingfacetransformers,Comput erVision,NaturalLanguageprocessing,MachineLearning\\nEducationalBackground:\\nInternationalSchoolofEngineering(INSOFE),Hyderabad,IndiaApril2016toOct2016\\nwebsite:http://www.insofe.edu.in/CertificatePrograminBigdataAnalyticsandOptimizationItisa6-monthAppliedEngineeringcourseinDataScience,BigdataanalyticsandOptimizationinwhichwewillbeexposedtovariousanalyticaltoolsandMachineLearningmodelstofindthepatternsinthedata,thenusedforpredictionsanddecision-making.TheProgramiscertifiedforthequality,pedagogyandassessmen tbyLTIofCarnegieMellonUniversity .', '●SearchengineusingBM25retriever:Client:MultipleclientsRole:DataScienceSpecialistResponsibilities:1)Ideaistobuildasearchenginewhichreducestheeffortandincreasesthespeedofassociatesinfindingrightdocumentforrightincident2)Thesolutiongoesthroughapipelinewhichundergoesvariouspre-processingstepssuchasworktokenizing,stopwordremoval,lemmatization,documenttermmatrix,etc.3)BM25retrieverisbeingusedtocrawlthroughdocumenttermmatrixandgivesusthebestmatch\\nCompan yName:CognizantTechnologySolutions,Hyderabad(Jan’19toJun’21)Domain:DataScienceToolsUsed:GoogleColab,TensorFlo w,Python,R,MicrosoftPowerBIShortSummar yoftheprojectsdealingwith:', 'PDFComparisontool:Client:CorelogicRole:TeamManagerResponsibilities:1)Asaleaddevelopedatool,whichcomparestwopdfsandhighlightsthetextinboththedocumentswherevertherearedifferences2)Frequentinteractionswiththeclienttounderstandthebusinessneedstoalignwiththedesiredrequirement3)Usedwidevarietiesofcleaningandpre-processingtechniquestoapplyNLPtechniquesforExactmappingofpagesintwodocumentsandhighlightedthedifferences,onew.r.toother4)DirectedtheteamtodevelopaUIusingRshiny,whichprovidesuserstheeaseofoperating5)Designedatoolinsuchawaythatauserneedstoinputtwopdfdocumentsandjustneedtorunthetoolandtherewillbetwooutputdocumentscorrespondingtotheinputdocumentsinwhichthedifferencesarehighlighted\\nCompan yName:AffineAnalyticsPvt.ltd,Bangalore(Jun’18toDec’18)Domain:DataScienceToolsUsed:Python,R,SQL,Tableau,ExcelShortSummar yoftheprojectsdealtwith:', '●MotivationMappingEngine:Client:MultipleClientsRole:SeniorDataScientistResponsibilities:1)Solelyhandledtheproject2)Builtapredictivemodelwhichwilltakealistofgamesplayedbytheuserandoutputsthemotivation3)ImplementedCI/CDpipeline4)Clientinteractions\\nCompan yName:Accenture,Hyderabad(Jun’21toSep’22)Domain:DataScienceToolsUsed:PythonShortSummar yoftheprojectsdealingwith:\\n●VirtualAgentusingBERTmodel:Client:MultipleclientsRole:DataScienceSpecialistResponsibilities:1)Partofateamwhichbuildsvirtualagents2)Thisparticularagenttakesinpdfsasknowledgesourceandbuildsacorpus3)ItusesBERTtransformermodeltoanswertothequeriesaskedbytheuserfromthedocuments4)Proactivelyleadclientpresentations5)WorkedonmultiplePOCsinsyncwiththeclientneeds', 'Responsibilities:1)Therearemillionsofitemsintheonlinespacethatarenotcodedduetothequantityandlackofautomation.2)Asthedataishugeintheonlinespace,usedImpalatoquerythedatafromthebigtables(Hadoopclusters)3)Thechalleng eistoreducethemanualeffortwithoutaffectingthequalityoftheitemcoding4)Createdlabelstotheproductjustbyobservingtheattributestheproductcarries5)Inadditiontothelabels,alsotriedtodividetheproductsintotheirrespectiv ecategoryusingtreebasedalgorithms\\n●CustomerTargetingAnalytics:Client:FordmotorcompanyRole:DataScientistResponsibilities:1)Analyzedthedataoffewnewschannelsandentertainmentchannelsoverthepurchasebehaviorsofthecustomerssothatithelpstherespectiv eclientstotargetthecustomerstobringthemintotheirbusiness2)Increasedthesalesby~5%byprovidingtheclientwiththerecommendedtimingsandtherespectiv eeventstotargetspecificgroupofpeople', 'JawaharlalNehruTechnologic alUniversity ,Hyderabad,IndiaJuly2011toJune2015BachelorofTechnologyinElectronicsandCommunic ationsEngineering(ECE)Percentagesecured:73.35', '●FootwearSalesForecasting:Client:NikeRole:SeniorBusinessAnalystResponsibilities:1)AleadingmarketshareholderofFootwearneedsaforecastontheamountofsalesforeverysecondquarter2)Sothattheycanmanagetheinventoryandtargetthetypeoffootweartoincreasethesales3)Atabroaderleveloftypesoffootwearthatareproductionizedbythecompany,developedanecosystemwhichhelpstonotonlyusethistemplateforsecondquartersalesbutalsotocreateanewproductwhichcanalsobeofgooddemand\\nCompan yName:NielsenIndiaPvt.ltd,Bangalore(Oct’16toJun’18)Domain:DataScienceToolsUsed:Python,R,SAS,SQL,ExcelShortSummar yoftheprojectsdealtwith:\\n●ItemcodingusingMachineLearningandNaturalLanguag eProcessing:Client:TheHomedepotRole:DataScientist', '●ContextRelevanceCheck:Client:MultipleClientsRole:TeamLead-DataScienceResponsibilities:1)LeadandTeamcontributor2)step-by-stepexecutions3)Brainstormingaroundthesolutions4)DocumentationoftheprojectandcommunicatingtheprogresstoCTO5)Directingtheteamtobeon-track,settingupthetimelygoalssothattheydon’tdeviate6)Clientpresentations']\n",
      "\n",
      "======================================================================\n",
      "\n",
      "Overall Metric Pass Rates\n",
      "\n",
      "Correctness (GEval): 33.33% pass rate\n",
      "Faithfulness: 100.00% pass rate\n",
      "Contextual Relevancy: 0.00% pass rate\n",
      "\n",
      "======================================================================\n",
      "\n"
     ]
    },
    {
     "name": "stderr",
     "output_type": "stream",
     "text": [
      "\n"
     ]
    },
    {
     "data": {
      "text/html": [
       "<pre style=\"white-space:pre;overflow-x:auto;line-height:normal;font-family:Menlo,'DejaVu Sans Mono',consolas,'Courier New',monospace\"><span style=\"color: #05f58d; text-decoration-color: #05f58d\">✓</span> Tests finished 🎉! Run <span style=\"color: #008000; text-decoration-color: #008000\">'deepeval login'</span> to view evaluation results on Confident AI. \n",
       "‼️  NOTE: You can also run evaluations on ALL of deepeval's metrics directly on Confident AI instead.\n",
       "</pre>\n"
      ],
      "text/plain": [
       "\u001b[38;2;5;245;141m✓\u001b[0m Tests finished 🎉! Run \u001b[32m'deepeval login'\u001b[0m to view evaluation results on Confident AI. \n",
       "‼️  NOTE: You can also run evaluations on ALL of deepeval's metrics directly on Confident AI instead.\n"
      ]
     },
     "metadata": {},
     "output_type": "display_data"
    }
   ],
   "source": [
    "from evaluate_rag import evaluate_rag\n",
    "\n",
    "evaluate_rag(chunks_query_retriever)"
   ]
  },
  {
   "cell_type": "markdown",
   "metadata": {},
   "source": [
    "### Test Run"
   ]
  },
  {
   "cell_type": "code",
   "execution_count": 12,
   "metadata": {},
   "outputs": [],
   "source": [
    "from langchain_openai import ChatOpenAI\n",
    "from langchain.chains import RetrievalQA\n",
    "\n",
    "llm = ChatOpenAI(model = 'gpt-4o')"
   ]
  },
  {
   "cell_type": "code",
   "execution_count": 13,
   "metadata": {},
   "outputs": [],
   "source": [
    "qa_chain = RetrievalQA.from_chain_type(\n",
    "    llm = llm,\n",
    "    chain_type = 'stuff',\n",
    "    retriever = chunks_query_retriever\n",
    ")"
   ]
  },
  {
   "cell_type": "code",
   "execution_count": 17,
   "metadata": {},
   "outputs": [],
   "source": [
    "response = qa_chain.invoke(input = \"Today date is 29th September, 2024. You are a inerview resume analyzer in an IT company, What is the total experience of the candidate ?\")"
   ]
  },
  {
   "cell_type": "code",
   "execution_count": 19,
   "metadata": {},
   "outputs": [
    {
     "data": {
      "text/plain": [
       "{'query': 'Today date is 29th September, 2024. You are a inerview resume analyzer in an IT company, What is the total experience of the candidate ?',\n",
       " 'result': \"Based on the provided resume, the candidate's professional experience is as follows:\\n\\n1. **Deloitte, Hyderabad**: May 2016 to August 2016 (Contract) - 4 months\\n2. **Nielsen India Pvt. Ltd, Bangalore**: October 2016 to June 2018 - 1 year and 9 months\\n3. **Affine Analytics Pvt. Ltd, Bangalore**: June 2018 to December 2018 - 7 months\\n4. **Cognizant Technology Solutions, Hyderabad**: January 2019 to June 2021 - 2 years and 6 months\\n5. **Accenture, Hyderabad**: June 2021 to September 2022 - 1 year and 4 months\\n6. **Gameopedia Data Solutions Pvt Ltd, Hyderabad**: September 2022 to Present (September 2024) - 2 years\\n\\nNow, summing up the duration of all the experiences:\\n\\n- Deloitte: 4 months\\n- Nielsen: 1 year and 9 months\\n- Affine Analytics: 7 months\\n- Cognizant: 2 years and 6 months\\n- Accenture: 1 year and 4 months\\n- Gameopedia: 2 years\\n\\nTotal experience:\\n= 4 months + 1 year 9 months + 7 months + 2 years 6 months + 1 year 4 months + 2 years\\n= (4 + 9 + 7 + 6 + 4) months + (1 + 2 + 1 + 2) years\\n= 30 months + 6 years\\n= 2 years 6 months + 6 years\\n= 8 years and 6 months\\n\\nTherefore, the total experience of the candidate as of 29th September 2024 is **8 years and 6 months**.\"}"
      ]
     },
     "execution_count": 19,
     "metadata": {},
     "output_type": "execute_result"
    }
   ],
   "source": [
    "response"
   ]
  },
  {
   "cell_type": "code",
   "execution_count": 24,
   "metadata": {},
   "outputs": [
    {
     "data": {
      "text/markdown": [
       "Based on the provided resume, the candidate's professional experience is as follows:\n",
       "\n",
       "1. **Deloitte, Hyderabad**: May 2016 to August 2016 (Contract) - 4 months\n",
       "2. **Nielsen India Pvt. Ltd, Bangalore**: October 2016 to June 2018 - 1 year and 9 months\n",
       "3. **Affine Analytics Pvt. Ltd, Bangalore**: June 2018 to December 2018 - 7 months\n",
       "4. **Cognizant Technology Solutions, Hyderabad**: January 2019 to June 2021 - 2 years and 6 months\n",
       "5. **Accenture, Hyderabad**: June 2021 to September 2022 - 1 year and 4 months\n",
       "6. **Gameopedia Data Solutions Pvt Ltd, Hyderabad**: September 2022 to Present (September 2024) - 2 years\n",
       "\n",
       "Now, summing up the duration of all the experiences:\n",
       "\n",
       "- Deloitte: 4 months\n",
       "- Nielsen: 1 year and 9 months\n",
       "- Affine Analytics: 7 months\n",
       "- Cognizant: 2 years and 6 months\n",
       "- Accenture: 1 year and 4 months\n",
       "- Gameopedia: 2 years\n",
       "\n",
       "Total experience:\n",
       "= 4 months + 1 year 9 months + 7 months + 2 years 6 months + 1 year 4 months + 2 years\n",
       "= (4 + 9 + 7 + 6 + 4) months + (1 + 2 + 1 + 2) years\n",
       "= 30 months + 6 years\n",
       "= 2 years 6 months + 6 years\n",
       "= 8 years and 6 months\n",
       "\n",
       "Therefore, the total experience of the candidate as of 29th September 2024 is **8 years and 6 months**."
      ],
      "text/plain": [
       "<IPython.core.display.Markdown object>"
      ]
     },
     "execution_count": 24,
     "metadata": {},
     "output_type": "execute_result"
    }
   ],
   "source": [
    "from IPython.display import Markdown\n",
    "Markdown(response['result'])"
   ]
  }
 ],
 "metadata": {
  "kernelspec": {
   "display_name": "llmEnv",
   "language": "python",
   "name": "python3"
  },
  "language_info": {
   "codemirror_mode": {
    "name": "ipython",
    "version": 3
   },
   "file_extension": ".py",
   "mimetype": "text/x-python",
   "name": "python",
   "nbconvert_exporter": "python",
   "pygments_lexer": "ipython3",
   "version": "3.12.6"
  }
 },
 "nbformat": 4,
 "nbformat_minor": 2
}
